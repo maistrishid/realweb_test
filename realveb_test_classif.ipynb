{
 "cells": [
  {
   "cell_type": "code",
   "execution_count": 1,
   "id": "specific-smith",
   "metadata": {},
   "outputs": [
    {
     "name": "stdout",
     "output_type": "stream",
     "text": [
      "Requirement already satisfied: scikit-learn==0.23.2 in /home/dmitrii/workspace/projects/ml/common_ml/lib/python3.8/site-packages (0.23.2)\n",
      "Requirement already satisfied: scipy>=0.19.1 in /home/dmitrii/workspace/projects/ml/common_ml/lib/python3.8/site-packages (from scikit-learn==0.23.2) (1.6.2)\n",
      "Requirement already satisfied: joblib>=0.11 in /home/dmitrii/workspace/projects/ml/common_ml/lib/python3.8/site-packages (from scikit-learn==0.23.2) (1.0.1)\n",
      "Requirement already satisfied: threadpoolctl>=2.0.0 in /home/dmitrii/workspace/projects/ml/common_ml/lib/python3.8/site-packages (from scikit-learn==0.23.2) (2.1.0)\n",
      "Requirement already satisfied: numpy>=1.13.3 in /home/dmitrii/workspace/projects/ml/common_ml/lib/python3.8/site-packages (from scikit-learn==0.23.2) (1.19.5)\n",
      "Requirement already satisfied: scikit-optimize==0.8.1 in /home/dmitrii/workspace/projects/ml/common_ml/lib/python3.8/site-packages (0.8.1)\n",
      "Requirement already satisfied: scikit-learn>=0.20.0 in /home/dmitrii/workspace/projects/ml/common_ml/lib/python3.8/site-packages (from scikit-optimize==0.8.1) (0.23.2)\n",
      "Requirement already satisfied: numpy>=1.13.3 in /home/dmitrii/workspace/projects/ml/common_ml/lib/python3.8/site-packages (from scikit-optimize==0.8.1) (1.19.5)\n",
      "Requirement already satisfied: pyaml>=16.9 in /home/dmitrii/workspace/projects/ml/common_ml/lib/python3.8/site-packages (from scikit-optimize==0.8.1) (20.4.0)\n",
      "Requirement already satisfied: scipy>=0.19.1 in /home/dmitrii/workspace/projects/ml/common_ml/lib/python3.8/site-packages (from scikit-optimize==0.8.1) (1.6.2)\n",
      "Requirement already satisfied: joblib>=0.11 in /home/dmitrii/workspace/projects/ml/common_ml/lib/python3.8/site-packages (from scikit-optimize==0.8.1) (1.0.1)\n",
      "Requirement already satisfied: threadpoolctl>=2.0.0 in /home/dmitrii/workspace/projects/ml/common_ml/lib/python3.8/site-packages (from scikit-learn>=0.20.0->scikit-optimize==0.8.1) (2.1.0)\n",
      "Requirement already satisfied: PyYAML in /home/dmitrii/workspace/projects/ml/common_ml/lib/python3.8/site-packages (from pyaml>=16.9->scikit-optimize==0.8.1) (5.4.1)\n"
     ]
    }
   ],
   "source": [
    "# для устранения некоторых проблем с совместимостью\n",
    "!pip install scikit-learn==0.23.2\n",
    "!pip install scikit-optimize==0.8.1"
   ]
  },
  {
   "cell_type": "code",
   "execution_count": 2,
   "id": "identified-barbados",
   "metadata": {},
   "outputs": [],
   "source": [
    "import pandas as pd\n",
    "import seaborn as sns\n",
    "\n",
    "from sklearn.pipeline import Pipeline\n",
    "from sklearn.compose import ColumnTransformer\n",
    "from sklearn.preprocessing import OneHotEncoder, StandardScaler, LabelEncoder\n",
    "from sklearn.impute import SimpleImputer\n",
    "\n",
    "from skopt import BayesSearchCV\n",
    "from skopt.space import Real, Integer\n",
    "\n",
    "from sklearn.linear_model import LogisticRegression\n",
    "from lightgbm import LGBMClassifier\n",
    "\n",
    "from sklearn.metrics import f1_score"
   ]
  },
  {
   "cell_type": "markdown",
   "id": "automated-regular",
   "metadata": {},
   "source": [
    "Посмотрим на наши данные:"
   ]
  },
  {
   "cell_type": "code",
   "execution_count": 3,
   "id": "sweet-checkout",
   "metadata": {},
   "outputs": [
    {
     "name": "stdout",
     "output_type": "stream",
     "text": [
      "Missing values: 0\n"
     ]
    },
    {
     "data": {
      "text/html": [
       "<div>\n",
       "<style scoped>\n",
       "    .dataframe tbody tr th:only-of-type {\n",
       "        vertical-align: middle;\n",
       "    }\n",
       "\n",
       "    .dataframe tbody tr th {\n",
       "        vertical-align: top;\n",
       "    }\n",
       "\n",
       "    .dataframe thead th {\n",
       "        text-align: right;\n",
       "    }\n",
       "</style>\n",
       "<table border=\"1\" class=\"dataframe\">\n",
       "  <thead>\n",
       "    <tr style=\"text-align: right;\">\n",
       "      <th></th>\n",
       "      <th>brand</th>\n",
       "      <th>model</th>\n",
       "      <th>complect</th>\n",
       "      <th>type_car</th>\n",
       "      <th>seats</th>\n",
       "      <th>doors</th>\n",
       "      <th>Двигатель</th>\n",
       "      <th>Мощность</th>\n",
       "      <th>Крутящий момент двигателя</th>\n",
       "      <th>Коробка передач</th>\n",
       "      <th>...</th>\n",
       "      <th>Разгон до сотни</th>\n",
       "      <th>Максимальная скорость</th>\n",
       "      <th>Расход топлива (л/100 км)\\nгород / трасса / смешанный</th>\n",
       "      <th>Дорожный просвет</th>\n",
       "      <th>Габариты (длина × ширина × высота)</th>\n",
       "      <th>Колёсная база</th>\n",
       "      <th>Объём багажника</th>\n",
       "      <th>Объём багажника максимальный</th>\n",
       "      <th>Объём топливного бака</th>\n",
       "      <th>Масса автомобиля</th>\n",
       "    </tr>\n",
       "  </thead>\n",
       "  <tbody>\n",
       "    <tr>\n",
       "      <th>0</th>\n",
       "      <td>Audi</td>\n",
       "      <td>A3 Sedan</td>\n",
       "      <td>1.4 TFSI 7AMT</td>\n",
       "      <td>Седан класса C</td>\n",
       "      <td>5</td>\n",
       "      <td>4</td>\n",
       "      <td>бензиновый (1395 см³)</td>\n",
       "      <td>150 л. с.</td>\n",
       "      <td>250 Н·м</td>\n",
       "      <td>роботизированная (7 ступеней)</td>\n",
       "      <td>...</td>\n",
       "      <td>8.2 секунды</td>\n",
       "      <td>224 км/ч</td>\n",
       "      <td>5.9 / 4.1 / 4.8</td>\n",
       "      <td>165 мм</td>\n",
       "      <td>4458 × 1796 × 1416</td>\n",
       "      <td>2637 мм</td>\n",
       "      <td>425 л</td>\n",
       "      <td>880 л</td>\n",
       "      <td>50 л</td>\n",
       "      <td>1320 кг</td>\n",
       "    </tr>\n",
       "    <tr>\n",
       "      <th>1</th>\n",
       "      <td>Audi</td>\n",
       "      <td>A3 Sedan</td>\n",
       "      <td>sport 1.4 TFSI 7AMT</td>\n",
       "      <td>Седан класса C</td>\n",
       "      <td>5</td>\n",
       "      <td>4</td>\n",
       "      <td>бензиновый (1395 см³)</td>\n",
       "      <td>150 л. с.</td>\n",
       "      <td>250 Н·м</td>\n",
       "      <td>роботизированная (7 ступеней)</td>\n",
       "      <td>...</td>\n",
       "      <td>8.2 секунды</td>\n",
       "      <td>224 км/ч</td>\n",
       "      <td>5.9 / 4.1 / 4.8</td>\n",
       "      <td>165 мм</td>\n",
       "      <td>4458 × 1796 × 1416</td>\n",
       "      <td>2637 мм</td>\n",
       "      <td>425 л</td>\n",
       "      <td>880 л</td>\n",
       "      <td>50 л</td>\n",
       "      <td>1320 кг</td>\n",
       "    </tr>\n",
       "    <tr>\n",
       "      <th>2</th>\n",
       "      <td>Audi</td>\n",
       "      <td>A3 Sedan</td>\n",
       "      <td>2.0 TFSI 7AMT</td>\n",
       "      <td>Седан класса C</td>\n",
       "      <td>5</td>\n",
       "      <td>4</td>\n",
       "      <td>бензиновый (1984 см³)</td>\n",
       "      <td>190 л. с.</td>\n",
       "      <td>320 Н·м</td>\n",
       "      <td>роботизированная (7 ступеней)</td>\n",
       "      <td>...</td>\n",
       "      <td>6.8 секунды</td>\n",
       "      <td>250 км/ч</td>\n",
       "      <td>7.2 / 4.7 / 5.6</td>\n",
       "      <td>165 мм</td>\n",
       "      <td>4458 × 1796 × 1416</td>\n",
       "      <td>2637 мм</td>\n",
       "      <td>425 л</td>\n",
       "      <td>880 л</td>\n",
       "      <td>50 л</td>\n",
       "      <td>1395 кг</td>\n",
       "    </tr>\n",
       "    <tr>\n",
       "      <th>3</th>\n",
       "      <td>Audi</td>\n",
       "      <td>A3 Sedan</td>\n",
       "      <td>2.0 TFSI 7AMT quattro</td>\n",
       "      <td>Седан класса C</td>\n",
       "      <td>5</td>\n",
       "      <td>4</td>\n",
       "      <td>бензиновый (1984 см³)</td>\n",
       "      <td>190 л. с.</td>\n",
       "      <td>320 Н·м</td>\n",
       "      <td>роботизированная (7 ступеней)</td>\n",
       "      <td>...</td>\n",
       "      <td>6.2 секунды</td>\n",
       "      <td>242 км/ч</td>\n",
       "      <td>7.2 / 4.8 / 5.7</td>\n",
       "      <td>165 мм</td>\n",
       "      <td>4458 × 1796 × 1416</td>\n",
       "      <td>2637 мм</td>\n",
       "      <td>390 л</td>\n",
       "      <td>845 л</td>\n",
       "      <td>55 л</td>\n",
       "      <td>1465 кг</td>\n",
       "    </tr>\n",
       "    <tr>\n",
       "      <th>4</th>\n",
       "      <td>Audi</td>\n",
       "      <td>A3 Sedan</td>\n",
       "      <td>sport 2.0 TFSI 7AMT</td>\n",
       "      <td>Седан класса C</td>\n",
       "      <td>5</td>\n",
       "      <td>4</td>\n",
       "      <td>бензиновый (1984 см³)</td>\n",
       "      <td>190 л. с.</td>\n",
       "      <td>320 Н·м</td>\n",
       "      <td>роботизированная (7 ступеней)</td>\n",
       "      <td>...</td>\n",
       "      <td>6.8 секунды</td>\n",
       "      <td>242 км/ч</td>\n",
       "      <td>7.2 / 4.7 / 5.6</td>\n",
       "      <td>165 мм</td>\n",
       "      <td>4458 × 1796 × 1416</td>\n",
       "      <td>2637 мм</td>\n",
       "      <td>425 л</td>\n",
       "      <td>880 л</td>\n",
       "      <td>50 л</td>\n",
       "      <td>1395 кг</td>\n",
       "    </tr>\n",
       "    <tr>\n",
       "      <th>...</th>\n",
       "      <td>...</td>\n",
       "      <td>...</td>\n",
       "      <td>...</td>\n",
       "      <td>...</td>\n",
       "      <td>...</td>\n",
       "      <td>...</td>\n",
       "      <td>...</td>\n",
       "      <td>...</td>\n",
       "      <td>...</td>\n",
       "      <td>...</td>\n",
       "      <td>...</td>\n",
       "      <td>...</td>\n",
       "      <td>...</td>\n",
       "      <td>...</td>\n",
       "      <td>...</td>\n",
       "      <td>...</td>\n",
       "      <td>...</td>\n",
       "      <td>...</td>\n",
       "      <td>...</td>\n",
       "      <td>...</td>\n",
       "      <td>...</td>\n",
       "    </tr>\n",
       "    <tr>\n",
       "      <th>1698</th>\n",
       "      <td>Volvo</td>\n",
       "      <td>XC90</td>\n",
       "      <td>D5 AT 5S R-Design</td>\n",
       "      <td>Большой кроссовер</td>\n",
       "      <td>5</td>\n",
       "      <td>5</td>\n",
       "      <td>дизельный (1969 см³)</td>\n",
       "      <td>235 л. с.</td>\n",
       "      <td>480 Н·м</td>\n",
       "      <td>автоматическая (8 ступеней)</td>\n",
       "      <td>...</td>\n",
       "      <td>7.8 секунды</td>\n",
       "      <td>220 км/ч</td>\n",
       "      <td>6.4 / 5.5 / 5.8</td>\n",
       "      <td>237 мм</td>\n",
       "      <td>4950 × 2008 × 1776</td>\n",
       "      <td>2984 мм</td>\n",
       "      <td>721 л</td>\n",
       "      <td>1899 л</td>\n",
       "      <td>71 л</td>\n",
       "      <td>1969 кг</td>\n",
       "    </tr>\n",
       "    <tr>\n",
       "      <th>1699</th>\n",
       "      <td>Volvo</td>\n",
       "      <td>XC90</td>\n",
       "      <td>T6 AT 7S R-Design</td>\n",
       "      <td>Большой кроссовер</td>\n",
       "      <td>7</td>\n",
       "      <td>5</td>\n",
       "      <td>бензиновый (1969 см³)</td>\n",
       "      <td>320 л. с.</td>\n",
       "      <td>400 Н·м</td>\n",
       "      <td>автоматическая (8 ступеней)</td>\n",
       "      <td>...</td>\n",
       "      <td>6.5 секунды</td>\n",
       "      <td>230 км/ч</td>\n",
       "      <td>0 / 0 / 8.3</td>\n",
       "      <td>237 мм</td>\n",
       "      <td>4950 × 2008 × 1776</td>\n",
       "      <td>2984 мм</td>\n",
       "      <td>692 л</td>\n",
       "      <td>1899 л</td>\n",
       "      <td>71 л</td>\n",
       "      <td>2004 кг</td>\n",
       "    </tr>\n",
       "    <tr>\n",
       "      <th>1700</th>\n",
       "      <td>Volvo</td>\n",
       "      <td>XC90</td>\n",
       "      <td>D5 AT 7S R-Design</td>\n",
       "      <td>Большой кроссовер</td>\n",
       "      <td>7</td>\n",
       "      <td>5</td>\n",
       "      <td>дизельный (1969 см³)</td>\n",
       "      <td>235 л. с.</td>\n",
       "      <td>480 Н·м</td>\n",
       "      <td>автоматическая (8 ступеней)</td>\n",
       "      <td>...</td>\n",
       "      <td>7.8 секунды</td>\n",
       "      <td>220 км/ч</td>\n",
       "      <td>6.4 / 5.5 / 5.8</td>\n",
       "      <td>237 мм</td>\n",
       "      <td>4950 × 2008 × 1776</td>\n",
       "      <td>2984 мм</td>\n",
       "      <td>692 л</td>\n",
       "      <td>1899 л</td>\n",
       "      <td>71 л</td>\n",
       "      <td>2009 кг</td>\n",
       "    </tr>\n",
       "    <tr>\n",
       "      <th>1701</th>\n",
       "      <td>Volvo</td>\n",
       "      <td>XC90</td>\n",
       "      <td>T8 AT 7S Inscription</td>\n",
       "      <td>Большой кроссовер</td>\n",
       "      <td>7</td>\n",
       "      <td>5</td>\n",
       "      <td>гибридный (1969 см³)</td>\n",
       "      <td>407 л. с.</td>\n",
       "      <td>640 Н·м</td>\n",
       "      <td>автоматическая (8 ступеней)</td>\n",
       "      <td>...</td>\n",
       "      <td>5.6 секунды</td>\n",
       "      <td>230 км/ч</td>\n",
       "      <td>0 / 0 / 2.1</td>\n",
       "      <td>237 мм</td>\n",
       "      <td>4950 × 2008 × 1776</td>\n",
       "      <td>2984 мм</td>\n",
       "      <td>640 л</td>\n",
       "      <td>1899 л</td>\n",
       "      <td>70 л</td>\n",
       "      <td>2350 кг</td>\n",
       "    </tr>\n",
       "    <tr>\n",
       "      <th>1702</th>\n",
       "      <td>Volvo</td>\n",
       "      <td>XC90</td>\n",
       "      <td>T8 AT 7S R-Design</td>\n",
       "      <td>Большой кроссовер</td>\n",
       "      <td>7</td>\n",
       "      <td>5</td>\n",
       "      <td>гибридный (1969 см³)</td>\n",
       "      <td>407 л. с.</td>\n",
       "      <td>640 Н·м</td>\n",
       "      <td>автоматическая (8 ступеней)</td>\n",
       "      <td>...</td>\n",
       "      <td>5.6 секунды</td>\n",
       "      <td>230 км/ч</td>\n",
       "      <td>0 / 0 / 2.1</td>\n",
       "      <td>237 мм</td>\n",
       "      <td>4950 × 2008 × 1776</td>\n",
       "      <td>2984 мм</td>\n",
       "      <td>640 л</td>\n",
       "      <td>1899 л</td>\n",
       "      <td>70 л</td>\n",
       "      <td>2350 кг</td>\n",
       "    </tr>\n",
       "  </tbody>\n",
       "</table>\n",
       "<p>1703 rows × 21 columns</p>\n",
       "</div>"
      ],
      "text/plain": [
       "      brand     model               complect           type_car  seats  doors  \\\n",
       "0      Audi  A3 Sedan          1.4 TFSI 7AMT     Седан класса C      5      4   \n",
       "1      Audi  A3 Sedan    sport 1.4 TFSI 7AMT     Седан класса C      5      4   \n",
       "2      Audi  A3 Sedan          2.0 TFSI 7AMT     Седан класса C      5      4   \n",
       "3      Audi  A3 Sedan  2.0 TFSI 7AMT quattro     Седан класса C      5      4   \n",
       "4      Audi  A3 Sedan    sport 2.0 TFSI 7AMT     Седан класса C      5      4   \n",
       "...     ...       ...                    ...                ...    ...    ...   \n",
       "1698  Volvo      XC90      D5 AT 5S R-Design  Большой кроссовер      5      5   \n",
       "1699  Volvo      XC90      T6 AT 7S R-Design  Большой кроссовер      7      5   \n",
       "1700  Volvo      XC90      D5 AT 7S R-Design  Большой кроссовер      7      5   \n",
       "1701  Volvo      XC90   T8 AT 7S Inscription  Большой кроссовер      7      5   \n",
       "1702  Volvo      XC90      T8 AT 7S R-Design  Большой кроссовер      7      5   \n",
       "\n",
       "                  Двигатель   Мощность Крутящий момент двигателя  \\\n",
       "0     бензиновый (1395 см³)  150 л. с.                   250 Н·м   \n",
       "1     бензиновый (1395 см³)  150 л. с.                   250 Н·м   \n",
       "2     бензиновый (1984 см³)  190 л. с.                   320 Н·м   \n",
       "3     бензиновый (1984 см³)  190 л. с.                   320 Н·м   \n",
       "4     бензиновый (1984 см³)  190 л. с.                   320 Н·м   \n",
       "...                     ...        ...                       ...   \n",
       "1698   дизельный (1969 см³)  235 л. с.                   480 Н·м   \n",
       "1699  бензиновый (1969 см³)  320 л. с.                   400 Н·м   \n",
       "1700   дизельный (1969 см³)  235 л. с.                   480 Н·м   \n",
       "1701   гибридный (1969 см³)  407 л. с.                   640 Н·м   \n",
       "1702   гибридный (1969 см³)  407 л. с.                   640 Н·м   \n",
       "\n",
       "                    Коробка передач  ... Разгон до сотни  \\\n",
       "0     роботизированная (7 ступеней)  ...     8.2 секунды   \n",
       "1     роботизированная (7 ступеней)  ...     8.2 секунды   \n",
       "2     роботизированная (7 ступеней)  ...     6.8 секунды   \n",
       "3     роботизированная (7 ступеней)  ...     6.2 секунды   \n",
       "4     роботизированная (7 ступеней)  ...     6.8 секунды   \n",
       "...                             ...  ...             ...   \n",
       "1698    автоматическая (8 ступеней)  ...     7.8 секунды   \n",
       "1699    автоматическая (8 ступеней)  ...     6.5 секунды   \n",
       "1700    автоматическая (8 ступеней)  ...     7.8 секунды   \n",
       "1701    автоматическая (8 ступеней)  ...     5.6 секунды   \n",
       "1702    автоматическая (8 ступеней)  ...     5.6 секунды   \n",
       "\n",
       "     Максимальная скорость  \\\n",
       "0                 224 км/ч   \n",
       "1                 224 км/ч   \n",
       "2                 250 км/ч   \n",
       "3                 242 км/ч   \n",
       "4                 242 км/ч   \n",
       "...                    ...   \n",
       "1698              220 км/ч   \n",
       "1699              230 км/ч   \n",
       "1700              220 км/ч   \n",
       "1701              230 км/ч   \n",
       "1702              230 км/ч   \n",
       "\n",
       "     Расход топлива (л/100 км)\\nгород / трасса / смешанный Дорожный просвет  \\\n",
       "0                                       5.9 / 4.1 / 4.8              165 мм   \n",
       "1                                       5.9 / 4.1 / 4.8              165 мм   \n",
       "2                                       7.2 / 4.7 / 5.6              165 мм   \n",
       "3                                       7.2 / 4.8 / 5.7              165 мм   \n",
       "4                                       7.2 / 4.7 / 5.6              165 мм   \n",
       "...                                                 ...                 ...   \n",
       "1698                                    6.4 / 5.5 / 5.8              237 мм   \n",
       "1699                                        0 / 0 / 8.3              237 мм   \n",
       "1700                                    6.4 / 5.5 / 5.8              237 мм   \n",
       "1701                                        0 / 0 / 2.1              237 мм   \n",
       "1702                                        0 / 0 / 2.1              237 мм   \n",
       "\n",
       "     Габариты (длина × ширина × высота) Колёсная база Объём багажника  \\\n",
       "0                    4458 × 1796 × 1416       2637 мм           425 л   \n",
       "1                    4458 × 1796 × 1416       2637 мм           425 л   \n",
       "2                    4458 × 1796 × 1416       2637 мм           425 л   \n",
       "3                    4458 × 1796 × 1416       2637 мм           390 л   \n",
       "4                    4458 × 1796 × 1416       2637 мм           425 л   \n",
       "...                                 ...           ...             ...   \n",
       "1698                 4950 × 2008 × 1776       2984 мм           721 л   \n",
       "1699                 4950 × 2008 × 1776       2984 мм           692 л   \n",
       "1700                 4950 × 2008 × 1776       2984 мм           692 л   \n",
       "1701                 4950 × 2008 × 1776       2984 мм           640 л   \n",
       "1702                 4950 × 2008 × 1776       2984 мм           640 л   \n",
       "\n",
       "     Объём багажника максимальный Объём топливного бака Масса автомобиля  \n",
       "0                           880 л                  50 л          1320 кг  \n",
       "1                           880 л                  50 л          1320 кг  \n",
       "2                           880 л                  50 л          1395 кг  \n",
       "3                           845 л                  55 л          1465 кг  \n",
       "4                           880 л                  50 л          1395 кг  \n",
       "...                           ...                   ...              ...  \n",
       "1698                       1899 л                  71 л          1969 кг  \n",
       "1699                       1899 л                  71 л          2004 кг  \n",
       "1700                       1899 л                  71 л          2009 кг  \n",
       "1701                       1899 л                  70 л          2350 кг  \n",
       "1702                       1899 л                  70 л          2350 кг  \n",
       "\n",
       "[1703 rows x 21 columns]"
      ]
     },
     "execution_count": 3,
     "metadata": {},
     "output_type": "execute_result"
    }
   ],
   "source": [
    "data = pd.read_csv('./auto_complectations.csv')\n",
    "print(f'Missing values: {data.isnull().sum().sum()}')\n",
    "data"
   ]
  },
  {
   "cell_type": "markdown",
   "id": "manual-fence",
   "metadata": {},
   "source": [
    "Начнем с целевой переменной, type_car. В задаче указано, что \"Классификация моделей (должна производится) по типу кузова (без подклассов, колонка type_car): - Седан - Хетчбек - Кроссовер - Внедорожник.\", однако в колонке данные другого формата (т.е. там не четыре лейбла, а куча всего). При других обстоятельствах я бы уточнил у заказчика, как сопоставить имеющуюся разметку с необходимой, но думаю для целей учебного задания можно принять упрощенное предположение, что седан имеет слово \"седан\" в соответствующей колонке, хетчбэк - слово \"хетчбэк\" и т.д."
   ]
  },
  {
   "cell_type": "code",
   "execution_count": 4,
   "id": "military-honolulu",
   "metadata": {},
   "outputs": [
    {
     "name": "stdout",
     "output_type": "stream",
     "text": [
      "Was samples: 1703, remain after drop: 1472\n"
     ]
    },
    {
     "name": "stderr",
     "output_type": "stream",
     "text": [
      "/home/dmitrii/workspace/projects/ml/common_ml/lib/python3.8/site-packages/seaborn/_decorators.py:36: FutureWarning: Pass the following variable as a keyword arg: x. From version 0.12, the only valid positional argument will be `data`, and passing other arguments without an explicit keyword will result in an error or misinterpretation.\n",
      "  warnings.warn(\n"
     ]
    },
    {
     "data": {
      "text/plain": [
       "<AxesSubplot:xlabel='type_car', ylabel='count'>"
      ]
     },
     "execution_count": 4,
     "metadata": {},
     "output_type": "execute_result"
    },
    {
     "data": {
      "image/png": "[encoded data removed]",
      "text/plain": [
       "<Figure size 432x288 with 1 Axes>"
      ]
     },
     "metadata": {
      "needs_background": "light"
     },
     "output_type": "display_data"
    }
   ],
   "source": [
    "def shorten_car_type(car_type):\n",
    "    if ('Седан' in car_type) or ('седан' in car_type):\n",
    "        return 'седан'\n",
    "    if ('Хэтчбек' in car_type) or ('хэтчбек' in car_type):\n",
    "        return 'хэтчбек'\n",
    "    if ('Кроссовер' in car_type) or ('кроссовер' in car_type):\n",
    "        return 'кроссовер'\n",
    "    if ('Внедорожник' in car_type) or ('внедорожник' in car_type):\n",
    "        return 'внедорожник'\n",
    "    else:\n",
    "        return None\n",
    "\n",
    "was_samples = data.shape[0]\n",
    "data['type_car'] = data['type_car'].map(shorten_car_type)\n",
    "data.dropna(subset=['type_car'], inplace=True)\n",
    "print(f'Was samples: {was_samples}, remain after drop: {data.shape[0]}')\n",
    "\n",
    "sns.countplot(data['type_car'])"
   ]
  },
  {
   "cell_type": "markdown",
   "id": "registered-reference",
   "metadata": {},
   "source": [
    "В классах целевой переменной наблюдается небольшой имбаланс, не требующий скорее всего применения [специальных мер](https://en.wikipedia.org/wiki/Oversampling_and_undersampling_in_data_analysis); тем не менее, учтем его выбрав целевой метрикой f1_weighted."
   ]
  },
  {
   "cell_type": "markdown",
   "id": "local-ballot",
   "metadata": {},
   "source": [
    "Большая часть информации в датасете представлена текстом, и нам нужно извлечь из него полезные числовые значения:"
   ]
  },
  {
   "cell_type": "code",
   "execution_count": 5,
   "id": "amino-appearance",
   "metadata": {},
   "outputs": [],
   "source": [
    "data_prep = data.copy()\n",
    "data_prep['engine_type'] = data['Двигатель'].str.split(' ').str[0]\n",
    "data_prep['engine_volume'] = pd.to_numeric(data['Двигатель'].str.extract(r'(\\d+)')[0])\n",
    "data_prep['power'] = pd.to_numeric(data['Мощность'].str.extract(r'(\\d+)')[0])\n",
    "data_prep['torque'] = pd.to_numeric(data['Крутящий момент двигателя'].str.extract(r'(\\d+)')[0])\n",
    "data_prep['trans_type'] = data['Коробка передач'].str.split(' ').str[0]\n",
    "data_prep['trans_st'] = pd.to_numeric(data['Коробка передач'].str.extract(r'(\\d+)')[0])\n",
    "data_prep['boost'] = pd.to_numeric(data['Разгон до сотни'].str.extract(r'([\\d.]+)')[0])\n",
    "data_prep['max_speed'] =  pd.to_numeric(data['Максимальная скорость'].str.extract(r'(\\d+)')[0])\n",
    "\n",
    "data_prep['cleer'] =  pd.to_numeric(data['Дорожный просвет'].str.extract(r'(\\d+)')[0])\n",
    "data_prep['wb'] =  pd.to_numeric(data['Колёсная база'].str.extract(r'(\\d+)')[0])\n",
    "data_prep['trunk_vol'] =  pd.to_numeric(data['Объём багажника'].str.extract(r'(\\d+)')[0])\n",
    "data_prep['trunk_vol_max'] =  pd.to_numeric(data['Объём багажника максимальный'].str.extract(r'(\\d+)')[0])\n",
    "data_prep['can_vol'] =  pd.to_numeric(data['Объём топливного бака'].str.extract(r'(\\d+)')[0])\n",
    "data_prep['weight'] =  pd.to_numeric(data['Масса автомобиля'].str.extract(r'(\\d+)')[0])\n",
    "\n",
    "cons_data = data['Расход топлива (л/100 км)\\nгород / трасса / смешанный'].str.extract(r'(.+)\\/(.+)\\/(.+)').apply(pd.to_numeric)\n",
    "cons_data.columns = ['cons_sity', 'cons_hw', 'cons_mixed']\n",
    "data_prep = data_prep.merge(cons_data, how='left', left_index=True, right_index=True)\n",
    "\n",
    "meas_data = data['Габариты (длина × ширина × высота)'].str.extract(r'(.+)×(.+)×(.+)').apply(pd.to_numeric)\n",
    "meas_data.columns = ['length', 'width', 'height']\n",
    "data_prep = data_prep.merge(meas_data, how='left', left_index=True, right_index=True)\n",
    "\n",
    "data_prep.drop(columns=['Двигатель', 'Мощность','Крутящий момент двигателя',  'Коробка передач', \n",
    "                        'Разгон до сотни', 'Максимальная скорость', 'Дорожный просвет',\n",
    "                        'Колёсная база', 'Объём багажника', 'Объём багажника максимальный', \n",
    "                        'Объём топливного бака', 'Масса автомобиля',\n",
    "                        'Расход топлива (л/100 км)\\nгород / трасса / смешанный', \n",
    "                        'Габариты (длина × ширина × высота)'], inplace=True)\n"
   ]
  },
  {
   "cell_type": "markdown",
   "id": "simplified-stress",
   "metadata": {},
   "source": [
    "Колонки 'model' и 'complect' -категориальные и содержат большое количество разных категорий, которые вызовут взрывной рост количества фичей при энкодинге и вероятно не будут полезны для классификации. Дропнем их:"
   ]
  },
  {
   "cell_type": "code",
   "execution_count": 6,
   "id": "criminal-motor",
   "metadata": {},
   "outputs": [
    {
     "name": "stdout",
     "output_type": "stream",
     "text": [
      "202\n",
      "1254\n"
     ]
    }
   ],
   "source": [
    "print(data_prep['model'].nunique())\n",
    "print(data_prep['complect'].nunique())\n",
    "data_prep.drop(columns=['model', 'complect'], inplace=True)"
   ]
  },
  {
   "cell_type": "markdown",
   "id": "turned-representation",
   "metadata": {},
   "source": [
    "Можно заметить, что у нас появились нуллы:"
   ]
  },
  {
   "cell_type": "code",
   "execution_count": 7,
   "id": "reserved-warrant",
   "metadata": {},
   "outputs": [
    {
     "data": {
      "text/plain": [
       "brand             0\n",
       "type_car          0\n",
       "seats             0\n",
       "doors             0\n",
       "Привод            0\n",
       "engine_type       0\n",
       "engine_volume     0\n",
       "power             0\n",
       "torque            0\n",
       "trans_type        0\n",
       "trans_st          0\n",
       "boost            31\n",
       "max_speed         0\n",
       "cleer             0\n",
       "wb                0\n",
       "trunk_vol         0\n",
       "trunk_vol_max     0\n",
       "can_vol           0\n",
       "weight            0\n",
       "cons_sity         0\n",
       "cons_hw           0\n",
       "cons_mixed        0\n",
       "length            0\n",
       "width             0\n",
       "height            0\n",
       "dtype: int64"
      ]
     },
     "execution_count": 7,
     "metadata": {},
     "output_type": "execute_result"
    }
   ],
   "source": [
    "data_prep.isnull().sum()"
   ]
  },
  {
   "cell_type": "markdown",
   "id": "arabic-trouble",
   "metadata": {},
   "source": [
    "Действительно, в колонке \"Разгон до сотни\" они фактически есть. Разберемся с ними чуть позже в пайплайне."
   ]
  },
  {
   "cell_type": "code",
   "execution_count": 8,
   "id": "looking-louisville",
   "metadata": {},
   "outputs": [
    {
     "data": {
      "text/plain": [
       "31"
      ]
     },
     "execution_count": 8,
     "metadata": {},
     "output_type": "execute_result"
    }
   ],
   "source": [
    "data[data['Разгон до сотни']=='нет данных'].shape[0]"
   ]
  },
  {
   "cell_type": "markdown",
   "id": "worthy-tragedy",
   "metadata": {},
   "source": [
    "Перед обучением обозначим простой бейзлайн - модель, всегда выдающую наиболее вероятный класс:"
   ]
  },
  {
   "cell_type": "code",
   "execution_count": 9,
   "id": "external-dinner",
   "metadata": {},
   "outputs": [
    {
     "data": {
      "text/plain": [
       "0.3470081839134341"
      ]
     },
     "execution_count": 9,
     "metadata": {},
     "output_type": "execute_result"
    }
   ],
   "source": [
    "f1_score(data_prep['type_car'], ['кроссовер']*data_prep.shape[0], average='weighted')"
   ]
  },
  {
   "cell_type": "markdown",
   "id": "hungarian-cinema",
   "metadata": {},
   "source": [
    "А так же оставим небольшой валидационный датасет:"
   ]
  },
  {
   "cell_type": "code",
   "execution_count": 10,
   "id": "matched-people",
   "metadata": {},
   "outputs": [],
   "source": [
    "from sklearn.model_selection import train_test_split\n",
    "\n",
    "X = data_prep.drop(columns=['type_car'])\n",
    "y = data_prep['type_car']\n",
    "\n",
    "X_train, X_valid, y_train, y_valid = train_test_split(X, y, test_size=100, random_state=0)\n"
   ]
  },
  {
   "cell_type": "markdown",
   "id": "mighty-chile",
   "metadata": {},
   "source": [
    "Попробуем для начала относительно простой алгоритм логистической регрессии. Гиперпараметр регуляризации будем искать с помощью байесовской оптимизации (так удобнее всего):"
   ]
  },
  {
   "cell_type": "code",
   "execution_count": 11,
   "id": "third-lingerie",
   "metadata": {},
   "outputs": [
    {
     "name": "stderr",
     "output_type": "stream",
     "text": [
      "/home/dmitrii/workspace/projects/ml/common_ml/lib/python3.8/site-packages/skopt/optimizer/optimizer.py:449: UserWarning: The objective has been evaluated at this point before.\n",
      "  warnings.warn(\"The objective has been evaluated \"\n"
     ]
    },
    {
     "name": "stdout",
     "output_type": "stream",
     "text": [
      "Model best cv score: 0.9934672790497557\n"
     ]
    }
   ],
   "source": [
    "categorical_features = ['brand', 'engine_type', 'trans_type', 'Привод']\n",
    "numeric_features_to_impute = ['boost']\n",
    "numeric_features = list(set(X.columns)-set(categorical_features)-set(numeric_features_to_impute))\n",
    "\n",
    "preprocessor = ColumnTransformer([\n",
    "    ('encoder', OneHotEncoder(handle_unknown='ignore'), categorical_features),\n",
    "    (\n",
    "        'null_handler', \n",
    "        Pipeline([\n",
    "            ('imputer', SimpleImputer(strategy='mean')),\n",
    "            ('imputed_scaler', StandardScaler())\n",
    "        ]), \n",
    "        numeric_features_to_impute\n",
    "    ),\n",
    "    ('numeric_scaler', StandardScaler(), numeric_features)\n",
    "])\n",
    "model = Pipeline([\n",
    "    ('preprocessor', preprocessor),\n",
    "    ('classifier', LogisticRegression(penalty='l2', multi_class='multinomial', solver='newton-cg'))\n",
    "])\n",
    "\n",
    "bs = BayesSearchCV(\n",
    "    model,\n",
    "    search_spaces={\n",
    "        'classifier__C': Real(1e-5, 1e1, prior='log-uniform')\n",
    "    },\n",
    "    n_iter=20,\n",
    "    scoring='f1_weighted',\n",
    "    cv=5,\n",
    "    random_state=0,\n",
    "    n_jobs=-1\n",
    ")\n",
    "bs.fit(X_train, y_train)\n",
    "\n",
    "print(f'Model best cv score: {bs.best_score_}')"
   ]
  },
  {
   "cell_type": "markdown",
   "id": "appreciated-guide",
   "metadata": {},
   "source": [
    "Как видно, достигнута очень высокая точность, дальнейшие улучшения не требуются. Проверим выбранную модель на валидационном датасете (при кросс-валидации оверфит маловероятен, но все же):"
   ]
  },
  {
   "cell_type": "code",
   "execution_count": 12,
   "id": "recorded-print",
   "metadata": {},
   "outputs": [
    {
     "data": {
      "text/plain": [
       "1.0"
      ]
     },
     "execution_count": 12,
     "metadata": {},
     "output_type": "execute_result"
    }
   ],
   "source": [
    "selected_model = bs.best_estimator_\n",
    "f1_score(selected_model.predict(X_valid), y_valid, average='weighted')"
   ]
  },
  {
   "cell_type": "markdown",
   "id": "younger-equivalent",
   "metadata": {},
   "source": [
    "Результат подтверждается, модель выбрана успешно."
   ]
  }
 ],
 "metadata": {
  "kernelspec": {
   "display_name": "Python 3",
   "language": "python",
   "name": "python3"
  },
  "language_info": {
   "codemirror_mode": {
    "name": "ipython",
    "version": 3
   },
   "file_extension": ".py",
   "mimetype": "text/x-python",
   "name": "python",
   "nbconvert_exporter": "python",
   "pygments_lexer": "ipython3",
   "version": "3.8.10"
  }
 },
 "nbformat": 4,
 "nbformat_minor": 5
}
